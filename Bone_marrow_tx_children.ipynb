{
 "cells": [
  {
   "cell_type": "markdown",
   "id": "ba9317bb-1fc8-4ea3-8839-6eb68dfaaf39",
   "metadata": {},
   "source": [
    "Importing dataset and making the dataframe"
   ]
  },
  {
   "cell_type": "code",
   "execution_count": 5,
   "id": "0ef97cdb-b791-4128-8186-a48b85c433b3",
   "metadata": {},
   "outputs": [],
   "source": [
    "from scipy.io import arff\n",
    "import pandas as pd\n",
    "arff_data = arff.loadarff('bone-marrow.arff')\n",
    "df = pd.DataFrame(arff_data[0])\n",
    "#type(df)\n",
    "#dir(df)"
   ]
  },
  {
   "cell_type": "markdown",
   "id": "95634237-2745-4e42-9136-f5a7ada55a13",
   "metadata": {},
   "source": [
    "Getting info about dataset"
   ]
  },
  {
   "cell_type": "code",
   "execution_count": 6,
   "id": "aa282d67-bbbc-4df9-838f-8ab63b9d1395",
   "metadata": {},
   "outputs": [
    {
     "name": "stdout",
     "output_type": "stream",
     "text": [
      "<class 'pandas.core.frame.DataFrame'>\n",
      "RangeIndex: 187 entries, 0 to 186\n",
      "Data columns (total 37 columns):\n",
      " #   Column                Non-Null Count  Dtype  \n",
      "---  ------                --------------  -----  \n",
      " 0   Recipientgender       187 non-null    object \n",
      " 1   Stemcellsource        187 non-null    object \n",
      " 2   Donorage              187 non-null    float64\n",
      " 3   Donorage35            187 non-null    object \n",
      " 4   IIIV                  187 non-null    object \n",
      " 5   Gendermatch           187 non-null    object \n",
      " 6   DonorABO              187 non-null    object \n",
      " 7   RecipientABO          187 non-null    object \n",
      " 8   RecipientRh           187 non-null    object \n",
      " 9   ABOmatch              187 non-null    object \n",
      " 10  CMVstatus             187 non-null    object \n",
      " 11  DonorCMV              187 non-null    object \n",
      " 12  RecipientCMV          187 non-null    object \n",
      " 13  Disease               187 non-null    object \n",
      " 14  Riskgroup             187 non-null    object \n",
      " 15  Txpostrelapse         187 non-null    object \n",
      " 16  Diseasegroup          187 non-null    object \n",
      " 17  HLAmatch              187 non-null    object \n",
      " 18  HLAmismatch           187 non-null    object \n",
      " 19  Antigen               187 non-null    object \n",
      " 20  Alel                  187 non-null    object \n",
      " 21  HLAgrI                187 non-null    object \n",
      " 22  Recipientage          187 non-null    float64\n",
      " 23  Recipientage10        187 non-null    object \n",
      " 24  Recipientageint       187 non-null    object \n",
      " 25  Relapse               187 non-null    object \n",
      " 26  aGvHDIIIIV            187 non-null    object \n",
      " 27  extcGvHD              187 non-null    object \n",
      " 28  CD34kgx10d6           187 non-null    float64\n",
      " 29  CD3dCD34              182 non-null    float64\n",
      " 30  CD3dkgx10d8           182 non-null    float64\n",
      " 31  Rbodymass             185 non-null    float64\n",
      " 32  ANCrecovery           187 non-null    float64\n",
      " 33  PLTrecovery           187 non-null    float64\n",
      " 34  time_to_aGvHD_III_IV  187 non-null    float64\n",
      " 35  survival_time         187 non-null    float64\n",
      " 36  survival_status       187 non-null    float64\n",
      "dtypes: float64(11), object(26)\n",
      "memory usage: 54.2+ KB\n"
     ]
    }
   ],
   "source": [
    "df.info()"
   ]
  },
  {
   "cell_type": "markdown",
   "id": "9f23925c-9c34-483b-aff7-1ec64d63d37f",
   "metadata": {},
   "source": [
    "Plotting the dataset"
   ]
  },
  {
   "cell_type": "code",
   "execution_count": 51,
   "id": "f6cb288f-88c1-48ea-ad16-1d4bce05f715",
   "metadata": {},
   "outputs": [
    {
     "data": {
      "text/html": [
       "<div>\n",
       "<style scoped>\n",
       "    .dataframe tbody tr th:only-of-type {\n",
       "        vertical-align: middle;\n",
       "    }\n",
       "\n",
       "    .dataframe tbody tr th {\n",
       "        vertical-align: top;\n",
       "    }\n",
       "\n",
       "    .dataframe thead th {\n",
       "        text-align: right;\n",
       "    }\n",
       "</style>\n",
       "<table border=\"1\" class=\"dataframe\">\n",
       "  <thead>\n",
       "    <tr style=\"text-align: right;\">\n",
       "      <th></th>\n",
       "      <th>Recipientgender</th>\n",
       "      <th>Stemcellsource</th>\n",
       "      <th>Donorage</th>\n",
       "      <th>Donorage35</th>\n",
       "      <th>IIIV</th>\n",
       "      <th>Gendermatch</th>\n",
       "      <th>DonorABO</th>\n",
       "      <th>RecipientABO</th>\n",
       "      <th>RecipientRh</th>\n",
       "      <th>ABOmatch</th>\n",
       "      <th>...</th>\n",
       "      <th>extcGvHD</th>\n",
       "      <th>CD34kgx10d6</th>\n",
       "      <th>CD3dCD34</th>\n",
       "      <th>CD3dkgx10d8</th>\n",
       "      <th>Rbodymass</th>\n",
       "      <th>ANCrecovery</th>\n",
       "      <th>PLTrecovery</th>\n",
       "      <th>time_to_aGvHD_III_IV</th>\n",
       "      <th>survival_time</th>\n",
       "      <th>survival_status</th>\n",
       "    </tr>\n",
       "  </thead>\n",
       "  <tbody>\n",
       "    <tr>\n",
       "      <th>0</th>\n",
       "      <td>b'1'</td>\n",
       "      <td>b'1'</td>\n",
       "      <td>22.830137</td>\n",
       "      <td>b'0'</td>\n",
       "      <td>b'1'</td>\n",
       "      <td>b'0'</td>\n",
       "      <td>b'1'</td>\n",
       "      <td>b'1'</td>\n",
       "      <td>b'1'</td>\n",
       "      <td>b'0'</td>\n",
       "      <td>...</td>\n",
       "      <td>b'1'</td>\n",
       "      <td>7.20</td>\n",
       "      <td>1.338760</td>\n",
       "      <td>5.38</td>\n",
       "      <td>35.0</td>\n",
       "      <td>19.0</td>\n",
       "      <td>51.0</td>\n",
       "      <td>32.0</td>\n",
       "      <td>999.0</td>\n",
       "      <td>0.0</td>\n",
       "    </tr>\n",
       "    <tr>\n",
       "      <th>1</th>\n",
       "      <td>b'1'</td>\n",
       "      <td>b'0'</td>\n",
       "      <td>23.342466</td>\n",
       "      <td>b'0'</td>\n",
       "      <td>b'1'</td>\n",
       "      <td>b'0'</td>\n",
       "      <td>b'-1'</td>\n",
       "      <td>b'-1'</td>\n",
       "      <td>b'1'</td>\n",
       "      <td>b'0'</td>\n",
       "      <td>...</td>\n",
       "      <td>b'1'</td>\n",
       "      <td>4.50</td>\n",
       "      <td>11.078295</td>\n",
       "      <td>0.41</td>\n",
       "      <td>20.6</td>\n",
       "      <td>16.0</td>\n",
       "      <td>37.0</td>\n",
       "      <td>1000000.0</td>\n",
       "      <td>163.0</td>\n",
       "      <td>1.0</td>\n",
       "    </tr>\n",
       "    <tr>\n",
       "      <th>2</th>\n",
       "      <td>b'1'</td>\n",
       "      <td>b'0'</td>\n",
       "      <td>26.394521</td>\n",
       "      <td>b'0'</td>\n",
       "      <td>b'1'</td>\n",
       "      <td>b'0'</td>\n",
       "      <td>b'-1'</td>\n",
       "      <td>b'-1'</td>\n",
       "      <td>b'1'</td>\n",
       "      <td>b'0'</td>\n",
       "      <td>...</td>\n",
       "      <td>b'1'</td>\n",
       "      <td>7.94</td>\n",
       "      <td>19.013230</td>\n",
       "      <td>0.42</td>\n",
       "      <td>23.4</td>\n",
       "      <td>23.0</td>\n",
       "      <td>20.0</td>\n",
       "      <td>1000000.0</td>\n",
       "      <td>435.0</td>\n",
       "      <td>1.0</td>\n",
       "    </tr>\n",
       "    <tr>\n",
       "      <th>3</th>\n",
       "      <td>b'0'</td>\n",
       "      <td>b'0'</td>\n",
       "      <td>39.684932</td>\n",
       "      <td>b'1'</td>\n",
       "      <td>b'1'</td>\n",
       "      <td>b'0'</td>\n",
       "      <td>b'1'</td>\n",
       "      <td>b'2'</td>\n",
       "      <td>b'1'</td>\n",
       "      <td>b'1'</td>\n",
       "      <td>...</td>\n",
       "      <td>b'?'</td>\n",
       "      <td>4.25</td>\n",
       "      <td>29.481647</td>\n",
       "      <td>0.14</td>\n",
       "      <td>50.0</td>\n",
       "      <td>23.0</td>\n",
       "      <td>29.0</td>\n",
       "      <td>19.0</td>\n",
       "      <td>53.0</td>\n",
       "      <td>1.0</td>\n",
       "    </tr>\n",
       "    <tr>\n",
       "      <th>4</th>\n",
       "      <td>b'0'</td>\n",
       "      <td>b'1'</td>\n",
       "      <td>33.358904</td>\n",
       "      <td>b'0'</td>\n",
       "      <td>b'0'</td>\n",
       "      <td>b'0'</td>\n",
       "      <td>b'1'</td>\n",
       "      <td>b'2'</td>\n",
       "      <td>b'0'</td>\n",
       "      <td>b'1'</td>\n",
       "      <td>...</td>\n",
       "      <td>b'1'</td>\n",
       "      <td>51.85</td>\n",
       "      <td>3.972255</td>\n",
       "      <td>13.05</td>\n",
       "      <td>9.0</td>\n",
       "      <td>14.0</td>\n",
       "      <td>14.0</td>\n",
       "      <td>1000000.0</td>\n",
       "      <td>2043.0</td>\n",
       "      <td>0.0</td>\n",
       "    </tr>\n",
       "  </tbody>\n",
       "</table>\n",
       "<p>5 rows × 37 columns</p>\n",
       "</div>"
      ],
      "text/plain": [
       "  Recipientgender Stemcellsource   Donorage Donorage35  IIIV Gendermatch  \\\n",
       "0            b'1'           b'1'  22.830137       b'0'  b'1'        b'0'   \n",
       "1            b'1'           b'0'  23.342466       b'0'  b'1'        b'0'   \n",
       "2            b'1'           b'0'  26.394521       b'0'  b'1'        b'0'   \n",
       "3            b'0'           b'0'  39.684932       b'1'  b'1'        b'0'   \n",
       "4            b'0'           b'1'  33.358904       b'0'  b'0'        b'0'   \n",
       "\n",
       "  DonorABO RecipientABO RecipientRh ABOmatch  ... extcGvHD CD34kgx10d6  \\\n",
       "0     b'1'         b'1'        b'1'     b'0'  ...     b'1'        7.20   \n",
       "1    b'-1'        b'-1'        b'1'     b'0'  ...     b'1'        4.50   \n",
       "2    b'-1'        b'-1'        b'1'     b'0'  ...     b'1'        7.94   \n",
       "3     b'1'         b'2'        b'1'     b'1'  ...     b'?'        4.25   \n",
       "4     b'1'         b'2'        b'0'     b'1'  ...     b'1'       51.85   \n",
       "\n",
       "    CD3dCD34 CD3dkgx10d8 Rbodymass ANCrecovery PLTrecovery  \\\n",
       "0   1.338760        5.38      35.0        19.0        51.0   \n",
       "1  11.078295        0.41      20.6        16.0        37.0   \n",
       "2  19.013230        0.42      23.4        23.0        20.0   \n",
       "3  29.481647        0.14      50.0        23.0        29.0   \n",
       "4   3.972255       13.05       9.0        14.0        14.0   \n",
       "\n",
       "  time_to_aGvHD_III_IV survival_time survival_status  \n",
       "0                 32.0         999.0             0.0  \n",
       "1            1000000.0         163.0             1.0  \n",
       "2            1000000.0         435.0             1.0  \n",
       "3                 19.0          53.0             1.0  \n",
       "4            1000000.0        2043.0             0.0  \n",
       "\n",
       "[5 rows x 37 columns]"
      ]
     },
     "execution_count": 51,
     "metadata": {},
     "output_type": "execute_result"
    }
   ],
   "source": [
    "df.head()"
   ]
  },
  {
   "cell_type": "code",
   "execution_count": 50,
   "id": "3eb46569-ac8c-430d-8ad2-cc29cf612a5c",
   "metadata": {},
   "outputs": [
    {
     "data": {
      "text/html": [
       "<div>\n",
       "<style scoped>\n",
       "    .dataframe tbody tr th:only-of-type {\n",
       "        vertical-align: middle;\n",
       "    }\n",
       "\n",
       "    .dataframe tbody tr th {\n",
       "        vertical-align: top;\n",
       "    }\n",
       "\n",
       "    .dataframe thead th {\n",
       "        text-align: right;\n",
       "    }\n",
       "</style>\n",
       "<table border=\"1\" class=\"dataframe\">\n",
       "  <thead>\n",
       "    <tr style=\"text-align: right;\">\n",
       "      <th></th>\n",
       "      <th>Recipientgender</th>\n",
       "      <th>Stemcellsource</th>\n",
       "      <th>Donorage</th>\n",
       "      <th>Donorage35</th>\n",
       "      <th>IIIV</th>\n",
       "      <th>Gendermatch</th>\n",
       "      <th>DonorABO</th>\n",
       "      <th>RecipientABO</th>\n",
       "      <th>RecipientRh</th>\n",
       "      <th>ABOmatch</th>\n",
       "      <th>...</th>\n",
       "      <th>extcGvHD</th>\n",
       "      <th>CD34kgx10d6</th>\n",
       "      <th>CD3dCD34</th>\n",
       "      <th>CD3dkgx10d8</th>\n",
       "      <th>Rbodymass</th>\n",
       "      <th>ANCrecovery</th>\n",
       "      <th>PLTrecovery</th>\n",
       "      <th>time_to_aGvHD_III_IV</th>\n",
       "      <th>survival_time</th>\n",
       "      <th>survival_status</th>\n",
       "    </tr>\n",
       "  </thead>\n",
       "  <tbody>\n",
       "    <tr>\n",
       "      <th>182</th>\n",
       "      <td>b'1'</td>\n",
       "      <td>b'1'</td>\n",
       "      <td>37.575342</td>\n",
       "      <td>b'1'</td>\n",
       "      <td>b'1'</td>\n",
       "      <td>b'0'</td>\n",
       "      <td>b'1'</td>\n",
       "      <td>b'1'</td>\n",
       "      <td>b'0'</td>\n",
       "      <td>b'0'</td>\n",
       "      <td>...</td>\n",
       "      <td>b'1'</td>\n",
       "      <td>11.08</td>\n",
       "      <td>2.522750</td>\n",
       "      <td>4.39</td>\n",
       "      <td>44.0</td>\n",
       "      <td>15.0</td>\n",
       "      <td>22.0</td>\n",
       "      <td>16.0</td>\n",
       "      <td>385.0</td>\n",
       "      <td>1.0</td>\n",
       "    </tr>\n",
       "    <tr>\n",
       "      <th>183</th>\n",
       "      <td>b'0'</td>\n",
       "      <td>b'1'</td>\n",
       "      <td>22.895890</td>\n",
       "      <td>b'0'</td>\n",
       "      <td>b'0'</td>\n",
       "      <td>b'0'</td>\n",
       "      <td>b'1'</td>\n",
       "      <td>b'0'</td>\n",
       "      <td>b'1'</td>\n",
       "      <td>b'1'</td>\n",
       "      <td>...</td>\n",
       "      <td>b'1'</td>\n",
       "      <td>4.64</td>\n",
       "      <td>1.038858</td>\n",
       "      <td>4.47</td>\n",
       "      <td>44.5</td>\n",
       "      <td>12.0</td>\n",
       "      <td>30.0</td>\n",
       "      <td>1000000.0</td>\n",
       "      <td>634.0</td>\n",
       "      <td>1.0</td>\n",
       "    </tr>\n",
       "    <tr>\n",
       "      <th>184</th>\n",
       "      <td>b'0'</td>\n",
       "      <td>b'1'</td>\n",
       "      <td>27.347945</td>\n",
       "      <td>b'0'</td>\n",
       "      <td>b'1'</td>\n",
       "      <td>b'0'</td>\n",
       "      <td>b'1'</td>\n",
       "      <td>b'-1'</td>\n",
       "      <td>b'1'</td>\n",
       "      <td>b'1'</td>\n",
       "      <td>...</td>\n",
       "      <td>b'1'</td>\n",
       "      <td>7.73</td>\n",
       "      <td>1.635559</td>\n",
       "      <td>4.73</td>\n",
       "      <td>33.0</td>\n",
       "      <td>16.0</td>\n",
       "      <td>16.0</td>\n",
       "      <td>1000000.0</td>\n",
       "      <td>1895.0</td>\n",
       "      <td>0.0</td>\n",
       "    </tr>\n",
       "    <tr>\n",
       "      <th>185</th>\n",
       "      <td>b'1'</td>\n",
       "      <td>b'1'</td>\n",
       "      <td>27.780822</td>\n",
       "      <td>b'0'</td>\n",
       "      <td>b'1'</td>\n",
       "      <td>b'0'</td>\n",
       "      <td>b'1'</td>\n",
       "      <td>b'0'</td>\n",
       "      <td>b'1'</td>\n",
       "      <td>b'1'</td>\n",
       "      <td>...</td>\n",
       "      <td>b'0'</td>\n",
       "      <td>15.41</td>\n",
       "      <td>8.077770</td>\n",
       "      <td>1.91</td>\n",
       "      <td>24.0</td>\n",
       "      <td>13.0</td>\n",
       "      <td>14.0</td>\n",
       "      <td>54.0</td>\n",
       "      <td>382.0</td>\n",
       "      <td>1.0</td>\n",
       "    </tr>\n",
       "    <tr>\n",
       "      <th>186</th>\n",
       "      <td>b'1'</td>\n",
       "      <td>b'1'</td>\n",
       "      <td>55.553425</td>\n",
       "      <td>b'1'</td>\n",
       "      <td>b'1'</td>\n",
       "      <td>b'0'</td>\n",
       "      <td>b'1'</td>\n",
       "      <td>b'2'</td>\n",
       "      <td>b'1'</td>\n",
       "      <td>b'1'</td>\n",
       "      <td>...</td>\n",
       "      <td>b'1'</td>\n",
       "      <td>9.91</td>\n",
       "      <td>0.948135</td>\n",
       "      <td>10.45</td>\n",
       "      <td>37.0</td>\n",
       "      <td>18.0</td>\n",
       "      <td>20.0</td>\n",
       "      <td>1000000.0</td>\n",
       "      <td>1109.0</td>\n",
       "      <td>0.0</td>\n",
       "    </tr>\n",
       "  </tbody>\n",
       "</table>\n",
       "<p>5 rows × 37 columns</p>\n",
       "</div>"
      ],
      "text/plain": [
       "    Recipientgender Stemcellsource   Donorage Donorage35  IIIV Gendermatch  \\\n",
       "182            b'1'           b'1'  37.575342       b'1'  b'1'        b'0'   \n",
       "183            b'0'           b'1'  22.895890       b'0'  b'0'        b'0'   \n",
       "184            b'0'           b'1'  27.347945       b'0'  b'1'        b'0'   \n",
       "185            b'1'           b'1'  27.780822       b'0'  b'1'        b'0'   \n",
       "186            b'1'           b'1'  55.553425       b'1'  b'1'        b'0'   \n",
       "\n",
       "    DonorABO RecipientABO RecipientRh ABOmatch  ... extcGvHD CD34kgx10d6  \\\n",
       "182     b'1'         b'1'        b'0'     b'0'  ...     b'1'       11.08   \n",
       "183     b'1'         b'0'        b'1'     b'1'  ...     b'1'        4.64   \n",
       "184     b'1'        b'-1'        b'1'     b'1'  ...     b'1'        7.73   \n",
       "185     b'1'         b'0'        b'1'     b'1'  ...     b'0'       15.41   \n",
       "186     b'1'         b'2'        b'1'     b'1'  ...     b'1'        9.91   \n",
       "\n",
       "     CD3dCD34 CD3dkgx10d8 Rbodymass ANCrecovery PLTrecovery  \\\n",
       "182  2.522750        4.39      44.0        15.0        22.0   \n",
       "183  1.038858        4.47      44.5        12.0        30.0   \n",
       "184  1.635559        4.73      33.0        16.0        16.0   \n",
       "185  8.077770        1.91      24.0        13.0        14.0   \n",
       "186  0.948135       10.45      37.0        18.0        20.0   \n",
       "\n",
       "    time_to_aGvHD_III_IV survival_time survival_status  \n",
       "182                 16.0         385.0             1.0  \n",
       "183            1000000.0         634.0             1.0  \n",
       "184            1000000.0        1895.0             0.0  \n",
       "185                 54.0         382.0             1.0  \n",
       "186            1000000.0        1109.0             0.0  \n",
       "\n",
       "[5 rows x 37 columns]"
      ]
     },
     "execution_count": 50,
     "metadata": {},
     "output_type": "execute_result"
    }
   ],
   "source": [
    "df.tail()"
   ]
  },
  {
   "cell_type": "code",
   "execution_count": 52,
   "id": "96c6da0c-4b1b-40d7-a3b9-f4cc1eec3089",
   "metadata": {},
   "outputs": [
    {
     "data": {
      "text/plain": [
       "(187, 37)"
      ]
     },
     "execution_count": 52,
     "metadata": {},
     "output_type": "execute_result"
    }
   ],
   "source": [
    "df.shape"
   ]
  },
  {
   "cell_type": "markdown",
   "id": "f4a54a6f-d19b-4ea9-bddf-526c8ebfa09e",
   "metadata": {},
   "source": [
    "Checking and handling the NaN datas"
   ]
  },
  {
   "cell_type": "code",
   "execution_count": 8,
   "id": "ba58d266-4ed5-4d39-8dff-4a14e977c7a8",
   "metadata": {},
   "outputs": [
    {
     "name": "stdout",
     "output_type": "stream",
     "text": [
      "    Recipientgender Stemcellsource   Donorage Donorage35  IIIV Gendermatch  \\\n",
      "7              b'1'           b'0'  21.435616       b'0'  b'1'        b'0'   \n",
      "81             b'1'           b'1'  22.112329       b'0'  b'0'        b'0'   \n",
      "86             b'1'           b'0'  33.791781       b'0'  b'0'        b'1'   \n",
      "92             b'0'           b'1'  30.835616       b'0'  b'1'        b'0'   \n",
      "102            b'0'           b'1'  40.183562       b'1'  b'1'        b'0'   \n",
      "\n",
      "    DonorABO RecipientABO RecipientRh ABOmatch  ... extcGvHD CD34kgx10d6  \\\n",
      "7       b'0'         b'1'        b'1'     b'1'  ...     b'?'        6.41   \n",
      "81      b'1'        b'-1'        b'0'     b'1'  ...     b'?'        7.91   \n",
      "86     b'-1'         b'1'        b'1'     b'1'  ...     b'1'        1.38   \n",
      "92      b'0'         b'0'        b'1'     b'0'  ...     b'0'       34.10   \n",
      "102     b'0'         b'0'        b'1'     b'0'  ...     b'?'        9.28   \n",
      "\n",
      "    CD3dCD34 CD3dkgx10d8 Rbodymass ANCrecovery PLTrecovery  \\\n",
      "7        NaN         NaN      56.0        22.0        58.0   \n",
      "81       NaN         NaN      37.5   1000000.0   1000000.0   \n",
      "86       NaN         NaN      34.0        22.0        56.0   \n",
      "92       NaN         NaN       NaN         9.0        10.0   \n",
      "102      NaN         NaN       NaN        13.0        27.0   \n",
      "\n",
      "    time_to_aGvHD_III_IV survival_time survival_status  \n",
      "7                   22.0          45.0             1.0  \n",
      "81             1000000.0          26.0             1.0  \n",
      "86             1000000.0        2699.0             0.0  \n",
      "92             1000000.0         385.0             1.0  \n",
      "102            1000000.0          56.0             1.0  \n",
      "\n",
      "[5 rows x 37 columns]\n"
     ]
    }
   ],
   "source": [
    "df.isnull() \n",
    "\n",
    "df.isna().values.any()\n",
    "\n",
    "df.isna().sum()\n",
    "\n",
    "rows_with_nan = df[df.isna().any(axis=1)]\n",
    "print(rows_with_nan)"
   ]
  },
  {
   "cell_type": "markdown",
   "id": "c9a11506-4c1f-440c-9b10-0afafccf593a",
   "metadata": {},
   "source": [
    "Checking the duplicated datas"
   ]
  },
  {
   "cell_type": "code",
   "execution_count": 9,
   "id": "beb2767f-8c6e-44a7-a60c-1b58d827d87a",
   "metadata": {},
   "outputs": [
    {
     "data": {
      "text/plain": [
       "False"
      ]
     },
     "execution_count": 9,
     "metadata": {},
     "output_type": "execute_result"
    }
   ],
   "source": [
    "df.duplicated().values.any()"
   ]
  },
  {
   "cell_type": "markdown",
   "id": "178a5753-aca3-4ae1-8b1b-1433d5fd8f81",
   "metadata": {},
   "source": [
    "Filling the NaN values with mean values"
   ]
  },
  {
   "cell_type": "code",
   "execution_count": 10,
   "id": "413af1fd-f17f-4a2a-92df-1f8698736bb1",
   "metadata": {},
   "outputs": [],
   "source": [
    "[df['CD3dkgx10d8'].mean(),\n",
    "df['CD3dCD34'].mean(),\n",
    "df['Rbodymass'].mean()]\n",
    "\n",
    "\n",
    "missing_values = {'CD3dkgx10d8' : df['CD3dkgx10d8'].mean(),\n",
    "                  'CD3dCD34': df['CD3dCD34'].mean(),\n",
    "                  'Rbodymass' : df['Rbodymass'].mean()#                  \n",
    "}\n",
    "\n",
    "df.fillna(value=missing_values, inplace = True)\n"
   ]
  },
  {
   "cell_type": "markdown",
   "id": "75bd0cdc-71e3-43f2-8474-c107a2a0ff1d",
   "metadata": {},
   "source": [
    "Checking how it worked"
   ]
  },
  {
   "cell_type": "code",
   "execution_count": 11,
   "id": "ebbee42d-8019-4355-bb66-9e6295eae781",
   "metadata": {},
   "outputs": [
    {
     "name": "stdout",
     "output_type": "stream",
     "text": [
      "Empty DataFrame\n",
      "Columns: [Recipientgender, Stemcellsource, Donorage, Donorage35, IIIV, Gendermatch, DonorABO, RecipientABO, RecipientRh, ABOmatch, CMVstatus, DonorCMV, RecipientCMV, Disease, Riskgroup, Txpostrelapse, Diseasegroup, HLAmatch, HLAmismatch, Antigen, Alel, HLAgrI, Recipientage, Recipientage10, Recipientageint, Relapse, aGvHDIIIIV, extcGvHD, CD34kgx10d6, CD3dCD34, CD3dkgx10d8, Rbodymass, ANCrecovery, PLTrecovery, time_to_aGvHD_III_IV, survival_time, survival_status]\n",
      "Index: []\n",
      "\n",
      "[0 rows x 37 columns]\n"
     ]
    }
   ],
   "source": [
    "df.isna().sum()\n",
    "\n",
    "rows_with_nan = df[df.isna().any(axis=1)]\n",
    "print(rows_with_nan)"
   ]
  },
  {
   "cell_type": "markdown",
   "id": "778e22cb-79e5-47b0-b0c0-2e087faf2fac",
   "metadata": {},
   "source": [
    "Plotting"
   ]
  },
  {
   "cell_type": "code",
   "execution_count": 18,
   "id": "da410395-8ed8-463d-a8af-7a33e070ad68",
   "metadata": {},
   "outputs": [
    {
     "data": {
      "text/plain": [
       "<Axes: xlabel='CD3dkgx10d8', ylabel='survival_time'>"
      ]
     },
     "execution_count": 18,
     "metadata": {},
     "output_type": "execute_result"
    },
    {
     "data": {
      "image/png": "[encoded data removed]",
      "text/plain": [
       "<Figure size 640x480 with 1 Axes>"
      ]
     },
     "metadata": {},
     "output_type": "display_data"
    }
   ],
   "source": [
    "df.plot.scatter(x = 'CD3dkgx10d8', y = 'survival_time', s = 10)"
   ]
  },
  {
   "cell_type": "code",
   "execution_count": 20,
   "id": "13757772-1101-4091-83fb-50814416d7b5",
   "metadata": {},
   "outputs": [
    {
     "data": {
      "text/plain": [
       "<Axes: xlabel='survival_status', ylabel='survival_time'>"
      ]
     },
     "execution_count": 20,
     "metadata": {},
     "output_type": "execute_result"
    },
    {
     "data": {
      "image/png": "[encoded data removed]",
      "text/plain": [
       "<Figure size 640x480 with 1 Axes>"
      ]
     },
     "metadata": {},
     "output_type": "display_data"
    }
   ],
   "source": [
    "df.plot.scatter(x = 'survival_status', y = 'survival_time', s = 10)"
   ]
  },
  {
   "cell_type": "code",
   "execution_count": 28,
   "id": "fc77bb85-6816-46a9-8436-40893411cdba",
   "metadata": {},
   "outputs": [
    {
     "data": {
      "text/plain": [
       "1527.7254901960785"
      ]
     },
     "execution_count": 28,
     "metadata": {},
     "output_type": "execute_result"
    }
   ],
   "source": [
    "df[df['survival_status'] == 0]['survival_time'].mean()"
   ]
  },
  {
   "cell_type": "code",
   "execution_count": 29,
   "id": "e4f8bd26-cfa6-4436-aaf5-ce630e0dd4a4",
   "metadata": {},
   "outputs": [
    {
     "data": {
      "text/plain": [
       "231.96470588235294"
      ]
     },
     "execution_count": 29,
     "metadata": {},
     "output_type": "execute_result"
    }
   ],
   "source": [
    "df[df['survival_status'] == 1]['survival_time'].mean()"
   ]
  },
  {
   "cell_type": "code",
   "execution_count": 35,
   "id": "643b41b9-5fb5-4531-8b2e-6622ed9b5fe8",
   "metadata": {},
   "outputs": [
    {
     "data": {
      "text/plain": [
       "<Axes: xlabel='CD3dkgx10d8', ylabel='survival_time'>"
      ]
     },
     "execution_count": 35,
     "metadata": {},
     "output_type": "execute_result"
    },
    {
     "data": {
      "image/png": "[encoded data removed]",
      "text/plain": [
       "<Figure size 640x480 with 1 Axes>"
      ]
     },
     "metadata": {},
     "output_type": "display_data"
    }
   ],
   "source": [
    "df_deceased = df[df['survival_status'] == 0]\n",
    "\n",
    "df_deceased.plot.scatter(x = 'CD3dkgx10d8', y = 'survival_time', s = 10)"
   ]
  },
  {
   "cell_type": "code",
   "execution_count": 36,
   "id": "afe1a0d4-3434-42d2-8d7e-43a058b46b9f",
   "metadata": {},
   "outputs": [
    {
     "data": {
      "text/plain": [
       "<Axes: xlabel='CD3dkgx10d8', ylabel='survival_time'>"
      ]
     },
     "execution_count": 36,
     "metadata": {},
     "output_type": "execute_result"
    },
    {
     "data": {
      "image/png": "[encoded data removed]",
      "text/plain": [
       "<Figure size 640x480 with 1 Axes>"
      ]
     },
     "metadata": {},
     "output_type": "display_data"
    }
   ],
   "source": [
    "df_alive = df[df['survival_status'] == 1]\n",
    "\n",
    "df_alive.plot.scatter(x = 'CD3dkgx10d8', y = 'survival_time', s = 10)"
   ]
  },
  {
   "cell_type": "code",
   "execution_count": 48,
   "id": "c045568c-eef2-439d-a291-39aced93ff2d",
   "metadata": {},
   "outputs": [
    {
     "data": {
      "text/plain": [
       "<Axes: ylabel='Frequency'>"
      ]
     },
     "execution_count": 48,
     "metadata": {},
     "output_type": "execute_result"
    },
    {
     "data": {
      "image/png": "[encoded data removed]",
      "text/plain": [
       "<Figure size 640x480 with 1 Axes>"
      ]
     },
     "metadata": {},
     "output_type": "display_data"
    }
   ],
   "source": [
    "df['survival_time'].plot.hist(bins=20, alpha=0.5)"
   ]
  },
  {
   "cell_type": "code",
   "execution_count": 46,
   "id": "b4f949da-a8c5-4ca0-8af0-c050a8031255",
   "metadata": {},
   "outputs": [
    {
     "data": {
      "text/plain": [
       "<Axes: ylabel='Frequency'>"
      ]
     },
     "execution_count": 46,
     "metadata": {},
     "output_type": "execute_result"
    },
    {
     "data": {
      "image/png": "[encoded data removed]",
      "text/plain": [
       "<Figure size 640x480 with 1 Axes>"
      ]
     },
     "metadata": {},
     "output_type": "display_data"
    }
   ],
   "source": [
    "df_deceased['survival_time'].plot.hist(bins=20, alpha=0.5)"
   ]
  },
  {
   "cell_type": "code",
   "execution_count": 47,
   "id": "130744b7-b588-47a8-b629-5f9d9ee8023d",
   "metadata": {},
   "outputs": [
    {
     "data": {
      "text/plain": [
       "<Axes: ylabel='Frequency'>"
      ]
     },
     "execution_count": 47,
     "metadata": {},
     "output_type": "execute_result"
    },
    {
     "data": {
      "image/png": "[encoded data removed]",
      "text/plain": [
       "<Figure size 640x480 with 1 Axes>"
      ]
     },
     "metadata": {},
     "output_type": "display_data"
    }
   ],
   "source": [
    "df_alive['survival_time'].plot.hist(bins=20, alpha=0.5)"
   ]
  },
  {
   "cell_type": "code",
   "execution_count": null,
   "id": "adf7d02a-cd89-4d07-9f43-57ec2bf67417",
   "metadata": {},
   "outputs": [],
   "source": []
  }
 ],
 "metadata": {
  "kernelspec": {
   "display_name": "Python 3 (ipykernel)",
   "language": "python",
   "name": "python3"
  },
  "language_info": {
   "codemirror_mode": {
    "name": "ipython",
    "version": 3
   },
   "file_extension": ".py",
   "mimetype": "text/x-python",
   "name": "python",
   "nbconvert_exporter": "python",
   "pygments_lexer": "ipython3",
   "version": "3.11.7"
  }
 },
 "nbformat": 4,
 "nbformat_minor": 5
}
